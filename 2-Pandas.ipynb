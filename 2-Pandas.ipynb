{
 "cells": [
  {
   "cell_type": "markdown",
   "id": "6e23ffd1",
   "metadata": {},
   "source": [
    "## Pandas basics\n"
   ]
  },
  {
   "cell_type": "code",
   "execution_count": null,
   "id": "f2f466bc",
   "metadata": {},
   "outputs": [],
   "source": [
    "import pandas as pd"
   ]
  },
  {
   "cell_type": "markdown",
   "id": "3fc9eda3",
   "metadata": {},
   "source": [
    "### Series"
   ]
  },
  {
   "cell_type": "code",
   "execution_count": null,
   "id": "69724d90",
   "metadata": {},
   "outputs": [],
   "source": [
    "values = [1, 3, 9, 10]\n",
    "\n",
    "series = pd.Series(values)\n",
    "\n",
    "series\n",
    "# Talk about the type, modify one value and show seriesastype(int)"
   ]
  },
  {
   "cell_type": "code",
   "execution_count": null,
   "id": "2ca612b7",
   "metadata": {},
   "outputs": [],
   "source": [
    "# Indices\n",
    "\n",
    "series = pd.Series(values, index = ['a', 'b', 'c', 'd'])\n",
    "\n",
    "series"
   ]
  },
  {
   "cell_type": "code",
   "execution_count": null,
   "id": "f0e9ceab",
   "metadata": {},
   "outputs": [],
   "source": [
    "# Using a dict\n",
    "stock_prices = { \n",
    "    'AAPL': 175.2, 'MSFT': 332.2, 'GOOG': 125.2, 'AMAZ': 120.4,\n",
    "    'NVIDA': 389.0, 'META': 262.1, 'TSLA': 193.2\n",
    "}\n",
    "\n",
    "series = pd.Series(stock_prices)\n",
    "\n",
    "series"
   ]
  },
  {
   "cell_type": "markdown",
   "id": "cc3fa035",
   "metadata": {},
   "source": [
    "### DataFrames"
   ]
  },
  {
   "cell_type": "code",
   "execution_count": null,
   "id": "940aff09",
   "metadata": {},
   "outputs": [],
   "source": [
    "# From a dictionary\n",
    "shapes = {\n",
    "    'width': [12.1, 15.2, 55, 19.1, 20.1],\n",
    "    'length': [2, 12.1, 8.0, 9.6, 10],\n",
    "    'height': [3, 4.2, 8.2, 3.2, 3.1]\n",
    "}\n",
    "\n",
    "df = pd.DataFrame(shapes)\n",
    "\n",
    "df = pd.DataFrame(shapes, index=['shape1', 'shape2', 'shape3', 'shape4', 'shape5'])\n",
    "\n",
    "df"
   ]
  },
  {
   "cell_type": "code",
   "execution_count": null,
   "id": "3e2d5944",
   "metadata": {},
   "outputs": [],
   "source": [
    "# Get a row/rows (with name and index)\n",
    "df.iloc[0]"
   ]
  },
  {
   "cell_type": "code",
   "execution_count": null,
   "id": "435dcd40",
   "metadata": {},
   "outputs": [],
   "source": [
    "# Get a column/columns\n",
    "df['width']"
   ]
  },
  {
   "cell_type": "code",
   "execution_count": null,
   "id": "21daa44e",
   "metadata": {},
   "outputs": [],
   "source": [
    "# Get a range of rows and columns\n",
    "df.loc[['shape1', 'shape2'], ['width', 'height']]"
   ]
  },
  {
   "cell_type": "markdown",
   "id": "30a6a6d3",
   "metadata": {},
   "source": [
    "### Wine quality dataset"
   ]
  },
  {
   "cell_type": "code",
   "execution_count": null,
   "id": "a5f33e9b",
   "metadata": {},
   "outputs": [],
   "source": [
    "wine_quality_url = \"./data/winequality-red.csv\"\n",
    "\n",
    "df = pd.read_csv(wine_quality_url)"
   ]
  },
  {
   "cell_type": "code",
   "execution_count": null,
   "id": "b66671a2",
   "metadata": {},
   "outputs": [],
   "source": [
    "# Head\n",
    "df.head()"
   ]
  },
  {
   "cell_type": "code",
   "execution_count": null,
   "id": "72727a3b",
   "metadata": {},
   "outputs": [],
   "source": [
    "# Info\n",
    "df.info()"
   ]
  },
  {
   "cell_type": "code",
   "execution_count": null,
   "id": "b438d5c8",
   "metadata": {},
   "outputs": [],
   "source": [
    "# isnull\n",
    "df.isnull()"
   ]
  },
  {
   "cell_type": "code",
   "execution_count": null,
   "id": "d7bc26dc",
   "metadata": {},
   "outputs": [],
   "source": [
    "# Aggregating methods such as sum, mean, median etc.\n",
    "df.sum()\n",
    "\n",
    "# df.isnull().any(axis = 0)"
   ]
  },
  {
   "cell_type": "code",
   "execution_count": null,
   "id": "49f9ad8d",
   "metadata": {},
   "outputs": [],
   "source": [
    "# Boolean masking\n",
    "# list of indices to a boolean masking [0,3,6] -> [True, False, False, True, False, False, True]\n",
    "\n",
    "s = pd.Series([10.2, 12.1, 13., 14, 20, 12, 40.1])\n",
    "\n",
    "s[[0,3,6]]\n",
    "s[[True, False, False, True, False, False, True]]"
   ]
  },
  {
   "cell_type": "code",
   "execution_count": null,
   "id": "385b8993",
   "metadata": {},
   "outputs": [],
   "source": [
    "# Query with boolean masking\n",
    "mask = df['residual sugar'] > 8\n",
    "\n",
    "print(mask)\n",
    "\n",
    "df[mask]"
   ]
  },
  {
   "cell_type": "code",
   "execution_count": null,
   "id": "0f9ab179",
   "metadata": {
    "scrolled": true
   },
   "outputs": [],
   "source": [
    "# More Complex Query, find all pH values for wines with citric acid between 0.7 and 0.75\n",
    "df[(df['citric acid'] > 0.7) & (df['citric acid'] < 0.75)]['pH']"
   ]
  },
  {
   "cell_type": "markdown",
   "id": "0b60d532",
   "metadata": {},
   "source": [
    "### Exercise 2: Calculate the mean value of pH and density for all wines with quality equal and above 7"
   ]
  },
  {
   "cell_type": "code",
   "execution_count": null,
   "id": "1da1ea27",
   "metadata": {},
   "outputs": [],
   "source": []
  },
  {
   "cell_type": "markdown",
   "id": "019b12b2",
   "metadata": {},
   "source": [
    "### Exercise 3 (Bonus): Print all rows with missing values"
   ]
  },
  {
   "cell_type": "code",
   "execution_count": null,
   "id": "c64b2f45",
   "metadata": {},
   "outputs": [],
   "source": []
  },
  {
   "cell_type": "markdown",
   "id": "87178be0",
   "metadata": {},
   "source": [
    "### Cleaning Data"
   ]
  },
  {
   "cell_type": "code",
   "execution_count": null,
   "id": "7f202ba6",
   "metadata": {},
   "outputs": [],
   "source": [
    "df.fillna({'citric acid': 0})"
   ]
  },
  {
   "cell_type": "code",
   "execution_count": null,
   "id": "a51a685b",
   "metadata": {},
   "outputs": [],
   "source": [
    "df.drop(columns=['chlorides'], inplace=True)"
   ]
  },
  {
   "cell_type": "code",
   "execution_count": null,
   "id": "530e926c",
   "metadata": {
    "scrolled": true
   },
   "outputs": [],
   "source": [
    "df.ffill()"
   ]
  },
  {
   "cell_type": "markdown",
   "id": "7e3dee81",
   "metadata": {},
   "source": [
    "### Modifiying"
   ]
  },
  {
   "cell_type": "code",
   "execution_count": null,
   "id": "a42d4e17",
   "metadata": {},
   "outputs": [],
   "source": [
    "# Creating a new column\n",
    "df['total acidity'] = df['volatile acidity'] + df['citric acid']"
   ]
  },
  {
   "cell_type": "code",
   "execution_count": null,
   "id": "134c7bc9",
   "metadata": {},
   "outputs": [],
   "source": [
    "# Aggregate using one or more operations over the specified axis.\n",
    "df.agg(['sum', 'min', 'max', 'mean', 'std'])"
   ]
  },
  {
   "cell_type": "code",
   "execution_count": null,
   "id": "84aecde7",
   "metadata": {},
   "outputs": [],
   "source": [
    "# Group by: calculating the mean of each column with each quality group\n",
    "df.groupby('quality').mean()"
   ]
  },
  {
   "cell_type": "markdown",
   "id": "488feabc",
   "metadata": {},
   "source": [
    "## Plotting"
   ]
  },
  {
   "cell_type": "code",
   "execution_count": null,
   "id": "ff9d7735",
   "metadata": {},
   "outputs": [],
   "source": [
    "df['pH'].plot.hist()"
   ]
  },
  {
   "cell_type": "code",
   "execution_count": null,
   "id": "c95594e4",
   "metadata": {
    "scrolled": false
   },
   "outputs": [],
   "source": [
    "import seaborn\n",
    "\n",
    "seaborn.pairplot(df.iloc[:100, :4])"
   ]
  }
 ],
 "metadata": {
  "kernelspec": {
   "display_name": "Python 3 (ipykernel)",
   "language": "python",
   "name": "python3"
  },
  "language_info": {
   "codemirror_mode": {
    "name": "ipython",
    "version": 3
   },
   "file_extension": ".py",
   "mimetype": "text/x-python",
   "name": "python",
   "nbconvert_exporter": "python",
   "pygments_lexer": "ipython3",
   "version": "3.11.3"
  }
 },
 "nbformat": 4,
 "nbformat_minor": 5
}
