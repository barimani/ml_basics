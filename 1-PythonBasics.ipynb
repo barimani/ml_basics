{
 "cells": [
  {
   "cell_type": "markdown",
   "id": "741b015c",
   "metadata": {},
   "source": [
    "## Python and Jupyter notebook basics"
   ]
  },
  {
   "cell_type": "code",
   "execution_count": null,
   "id": "85d98643",
   "metadata": {},
   "outputs": [],
   "source": [
    "# Declaring and assigning a variable\n",
    "number = 3\n",
    "\n",
    "# Defining a function\n",
    "def add(n, amount = 1):\n",
    "    return n + amount\n",
    "\n",
    "# importing a module (library)\n",
    "import numpy as np"
   ]
  },
  {
   "cell_type": "code",
   "execution_count": null,
   "id": "b9ac78e3",
   "metadata": {},
   "outputs": [],
   "source": [
    "# Ability to access the declared objects in the whole notebook\n",
    "\n",
    "print(f'The declared number is {number}')\n",
    "print(f'Adding 5 to the number {add(number, 5)}')\n",
    "print(f'Type of np is {type(np)}')"
   ]
  },
  {
   "cell_type": "code",
   "execution_count": null,
   "id": "5d8fddfc",
   "metadata": {},
   "outputs": [],
   "source": [
    "# The last line of the cell will be printed\n",
    "\n",
    "number"
   ]
  },
  {
   "cell_type": "markdown",
   "id": "7922a32e",
   "metadata": {},
   "source": [
    "#### Common python data types and operations"
   ]
  },
  {
   "cell_type": "code",
   "execution_count": null,
   "id": "a291406b",
   "metadata": {},
   "outputs": [],
   "source": [
    "# List\n",
    "myList = [1, 2, 3, 4]\n",
    "\n",
    "# Iteration\n",
    "s = 0\n",
    "for n in myList:\n",
    "    s = s + n\n",
    "\n",
    "print(f'Sum is {s}')"
   ]
  },
  {
   "cell_type": "code",
   "execution_count": null,
   "id": "5764e2ed",
   "metadata": {},
   "outputs": [],
   "source": [
    "# List Comprehension\n",
    "anotherList = [x ** 2 for x in range(1,10)]\n",
    "anotherList"
   ]
  },
  {
   "cell_type": "code",
   "execution_count": null,
   "id": "db46a2dc",
   "metadata": {},
   "outputs": [],
   "source": [
    "# Tuple\n",
    "myTuple = (1, 2, 'hi')\n",
    "\n",
    "a, b, c = myTuple\n",
    "print(f'a is {a}, b is {b} and c is {c}')"
   ]
  },
  {
   "cell_type": "code",
   "execution_count": null,
   "id": "6a34e7a6",
   "metadata": {},
   "outputs": [],
   "source": [
    "# Dictionary\n",
    "myDict = { 'key1': 12, 'key2': 'value' }\n",
    "print(myDict['key2'])"
   ]
  },
  {
   "cell_type": "code",
   "execution_count": null,
   "id": "dc172d6b",
   "metadata": {},
   "outputs": [],
   "source": [
    "# Set\n",
    "mySet = { 'mango', 'banana', 'melon' }\n",
    "print('mango' in mySet)"
   ]
  },
  {
   "cell_type": "markdown",
   "id": "8970f999",
   "metadata": {},
   "source": [
    "#### Excercise 1: Given the list of stock symbols below, print their prices using the stock_prices dictionary "
   ]
  },
  {
   "cell_type": "code",
   "execution_count": null,
   "id": "208296bf",
   "metadata": {},
   "outputs": [],
   "source": [
    "symbols = ['GOOG', 'NVIDA', 'META', 'TSLA']\n",
    "\n",
    "stock_prices = { \n",
    "    'AAPL': 175.2, 'MSFT': 332.2, 'GOOG': 125.2, 'AMAZ': 120.4,\n",
    "    'NVIDA': 389.0, 'META': 262.1, 'TSLA': 193.2\n",
    "}\n",
    "\n",
    "def print_colors():\n",
    "    # Implement here\n",
    "    pass\n",
    "\n",
    "print_colors()\n",
    "\n",
    "# expected output:\n",
    "\n",
    "# GOOG price is 125.2\n",
    "# NVIDA price is 389.0\n",
    "# META price is 262.1\n",
    "# TSLA price is 193.2"
   ]
  }
 ],
 "metadata": {
  "kernelspec": {
   "display_name": "Python 3 (ipykernel)",
   "language": "python",
   "name": "python3"
  },
  "language_info": {
   "codemirror_mode": {
    "name": "ipython",
    "version": 3
   },
   "file_extension": ".py",
   "mimetype": "text/x-python",
   "name": "python",
   "nbconvert_exporter": "python",
   "pygments_lexer": "ipython3",
   "version": "3.11.3"
  }
 },
 "nbformat": 4,
 "nbformat_minor": 5
}
