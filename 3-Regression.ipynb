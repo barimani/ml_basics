{
 "cells": [
  {
   "cell_type": "markdown",
   "id": "0d12f674",
   "metadata": {},
   "source": [
    "# Dataset: Boston housing\n",
    "\n",
    "- CRIM - per capita crime rate by town\n",
    "- ZN - proportion of residential land zoned for lots over 25,000 sq.ft.\n",
    "- INDUS - proportion of non-retail business acres per town.\n",
    "- CHAS - Charles River dummy variable (1 if tract bounds river; 0 otherwise)\n",
    "- NOX - nitric oxides concentration (parts per 10 million)\n",
    "- RM - average number of rooms per dwelling\n",
    "- AGE - proportion of owner-occupied units built prior to 1940\n",
    "- DIS - weighted distances to five Boston employment centres\n",
    "- RAD - index of accessibility to radial highways\n",
    "- TAX - full-valjue property-tax rate per $10,000\n",
    "\n",
    "- PTRATIO - pupil-teacher ratio by town\n",
    "- B - 1000(Bk - 0.63)^2 where Bk is the proportion of blacks by town\n",
    "- LSTAT - % lower status of the population\n",
    "- MEDV - Median value of owner-occupied homes in $1000's"
   ]
  },
  {
   "cell_type": "code",
   "execution_count": null,
   "id": "a3e27a8a",
   "metadata": {},
   "outputs": [],
   "source": [
    "import pandas as pd\n",
    "\n",
    "url = \"https://raw.githubusercontent.com/selva86/datasets/master/BostonHousing.csv\"\n",
    "\n",
    "df = pd.read_csv(url)\n",
    "\n",
    "df.head()"
   ]
  },
  {
   "cell_type": "code",
   "execution_count": null,
   "id": "43faa749",
   "metadata": {},
   "outputs": [],
   "source": [
    "df.info()"
   ]
  },
  {
   "cell_type": "code",
   "execution_count": null,
   "id": "99f08f45",
   "metadata": {},
   "outputs": [],
   "source": [
    "# lets find a feature that correlates strongly\n",
    "df.corr()['medv']\n"
   ]
  },
  {
   "cell_type": "markdown",
   "id": "634be02f",
   "metadata": {},
   "source": [
    "## Terminology\n",
    "\n",
    "#### Data\n",
    "Feature or input variable or independent variable\n",
    "Target or dependent variable or prediction\n",
    "\n",
    "#### Modelling\n",
    "model - a function or a system or sequence of logic that takes input and produces an output\n",
    "\n",
    "loss function - a defined function that represents the error of your model compared with real results\n",
    "\n",
    "\n",
    "\n",
    "### Simple case: Linear regression with one input\n",
    "\n",
    "\n",
    "y = b + w X\n",
    "\n",
    "X -> input variable lets take the room number only\n",
    "\n",
    "y -> value of the dwelling\n",
    "\n",
    "The goal is to find w and b that reduces the loss function below:\n",
    "\n",
    "loss = Sum( ( y - yPred ) ^ 2)"
   ]
  },
  {
   "cell_type": "code",
   "execution_count": null,
   "id": "8e7f4d1e",
   "metadata": {},
   "outputs": [],
   "source": [
    "# Let's focus only on a single feature as opposed to all features\n",
    "X = df[['rm']]"
   ]
  },
  {
   "cell_type": "code",
   "execution_count": null,
   "id": "e87daee8",
   "metadata": {},
   "outputs": [],
   "source": [
    "# We are trying to predict the price, so we will use 'medv'\n",
    "y = df['medv']"
   ]
  },
  {
   "cell_type": "markdown",
   "id": "6feab3c3",
   "metadata": {},
   "source": [
    "### Train Test split\n",
    "\n",
    "We keep a portion of the data for evaluation of the model. typically between 15 to 25 percent of the data\n",
    "This is to ensure the model is able to make good prediction for unseen data as a complex model can be capable of memorizing the training data"
   ]
  },
  {
   "cell_type": "code",
   "execution_count": null,
   "id": "a9f0d387",
   "metadata": {},
   "outputs": [],
   "source": [
    "from sklearn.model_selection import train_test_split\n",
    "\n",
    "X_train, X_test, y_train, y_test = train_test_split(X, y, test_size=0.2, random_state=43)"
   ]
  },
  {
   "cell_type": "markdown",
   "id": "76f7d123",
   "metadata": {},
   "source": [
    "### Plotting data"
   ]
  },
  {
   "cell_type": "code",
   "execution_count": null,
   "id": "500e3454",
   "metadata": {},
   "outputs": [],
   "source": [
    "import matplotlib.pyplot as plt\n",
    "\n",
    "plt.scatter(X_train, y_train, label='Training set')\n",
    "plt.scatter(X_test, y_test, label='Test set')\n",
    "\n",
    "plt.xlabel('Feature (average number of rooms)')\n",
    "plt.ylabel('Target (median value)')\n",
    "\n",
    "plt.title('Real Estate Price based on number of rooms')\n",
    "plt.legend();"
   ]
  },
  {
   "cell_type": "markdown",
   "id": "12b37b19",
   "metadata": {},
   "source": [
    "### Training\n",
    "Is based on the train set only and is simply a single line (in general is a hyperplane)\n",
    "\n",
    "There is so much action happening under the 'fit' method here!"
   ]
  },
  {
   "cell_type": "code",
   "execution_count": null,
   "id": "32ba6434",
   "metadata": {},
   "outputs": [],
   "source": [
    "# Doc at https://scikit-learn.org/stable/modules/generated/sklearn.linear_model.LinearRegression.html\n",
    "from sklearn import linear_model\n",
    "\n",
    "reg = linear_model.LinearRegression()\n",
    "\n",
    "reg.fit(X_train, y_train);"
   ]
  },
  {
   "cell_type": "code",
   "execution_count": null,
   "id": "d7747e80",
   "metadata": {},
   "outputs": [],
   "source": [
    "# Model coefficients (parameters)\n",
    "b = reg.intercept_\n",
    "w = reg.coef_\n",
    "\n",
    "print(f'b={b} and w={w}')"
   ]
  },
  {
   "cell_type": "markdown",
   "id": "c136149a",
   "metadata": {},
   "source": [
    "### Evaluating\n",
    "We will evaluate the performance of the model for both training and test datasets\n",
    "\n",
    "The score of a linear regression is the coefficient of determination which is 1 - loss / (variance of true targets * size)"
   ]
  },
  {
   "cell_type": "code",
   "execution_count": null,
   "id": "a693284b",
   "metadata": {},
   "outputs": [],
   "source": [
    "train_score = reg.score(X_train, y_train)\n",
    "test_score = reg.score(X_test, y_test)\n",
    "\n",
    "print(f'Train score is: {train_score}')\n",
    "print(f'Test score is: {test_score}')"
   ]
  },
  {
   "cell_type": "code",
   "execution_count": null,
   "id": "0286030b",
   "metadata": {},
   "outputs": [],
   "source": [
    "# Prediction -> the model can be used for the application\n",
    "num_rooms = 6.\n",
    "price = reg.predict([[num_rooms]])\n",
    "\n",
    "print(price)"
   ]
  },
  {
   "cell_type": "code",
   "execution_count": null,
   "id": "34037313",
   "metadata": {},
   "outputs": [],
   "source": [
    "# Let's plot the fitted line\n",
    "y_pred = reg.predict(X)\n",
    "\n",
    "plt.scatter(X['rm'], y, label='All data')\n",
    "plt.scatter(X['rm'], y_pred, color='red', label='Fitted line')\n",
    "\n",
    "\n",
    "plt.xlabel('Feature (average number of rooms)')\n",
    "plt.ylabel('Target (median value)')\n",
    "\n",
    "plt.title('Real Estate Price based on number of rooms')\n",
    "plt.legend();"
   ]
  },
  {
   "cell_type": "markdown",
   "id": "d1a58025",
   "metadata": {},
   "source": [
    "### Reflection\n",
    "Why did we get such scores?\n",
    "\n",
    "Could it be that our model is too simple?\n",
    "No based on the scatter plot it seems like a more complex can't do better necessarily\n",
    "\n",
    "Could it be an isssue with the data? Yes, it seems like that simply relying on the number of rooms is not a good criteria for predicting the price. Let's include more features and see if we can get a better score"
   ]
  },
  {
   "cell_type": "code",
   "execution_count": 324,
   "id": "0ec1c677",
   "metadata": {},
   "outputs": [],
   "source": [
    "# Preparing data\n",
    "X = df.drop(columns=['medv'])\n",
    "y = df['medv']"
   ]
  },
  {
   "cell_type": "code",
   "execution_count": 325,
   "id": "01c66bbc",
   "metadata": {},
   "outputs": [],
   "source": [
    "# Splitting\n",
    "X_train, X_test, y_train, y_test = train_test_split(X, y, test_size=0.2, random_state=43)"
   ]
  },
  {
   "cell_type": "code",
   "execution_count": 339,
   "id": "7959ed73",
   "metadata": {},
   "outputs": [],
   "source": [
    "# Scaling: we need to bring all the features in the same scale\n",
    "from sklearn.preprocessing import StandardScaler\n",
    "\n",
    "# Using a scaler object to bring all features in the same range (only using the training set to avoid data leak)\n",
    "scaler = StandardScaler().fit(X_train)\n",
    "\n",
    "# Generating a scaled train and test set\n",
    "X_train_scaled = scaler.transform(X_train)\n",
    "X_test_scaled = scaler.transform(X_test)"
   ]
  },
  {
   "cell_type": "code",
   "execution_count": 379,
   "id": "c4e8d4b4",
   "metadata": {},
   "outputs": [
    {
     "data": {
      "text/html": [
       "<div>\n",
       "<style scoped>\n",
       "    .dataframe tbody tr th:only-of-type {\n",
       "        vertical-align: middle;\n",
       "    }\n",
       "\n",
       "    .dataframe tbody tr th {\n",
       "        vertical-align: top;\n",
       "    }\n",
       "\n",
       "    .dataframe thead th {\n",
       "        text-align: right;\n",
       "    }\n",
       "</style>\n",
       "<table border=\"1\" class=\"dataframe\">\n",
       "  <thead>\n",
       "    <tr style=\"text-align: right;\">\n",
       "      <th></th>\n",
       "      <th>crim_scaled</th>\n",
       "      <th>zn_scaled</th>\n",
       "      <th>indus_scaled</th>\n",
       "      <th>chas_scaled</th>\n",
       "      <th>nox_scaled</th>\n",
       "      <th>rm_scaled</th>\n",
       "      <th>age_scaled</th>\n",
       "      <th>dis_scaled</th>\n",
       "      <th>rad_scaled</th>\n",
       "      <th>tax_scaled</th>\n",
       "      <th>ptratio_scaled</th>\n",
       "      <th>b_scaled</th>\n",
       "      <th>lstat_scaled</th>\n",
       "    </tr>\n",
       "  </thead>\n",
       "  <tbody>\n",
       "    <tr>\n",
       "      <th>0</th>\n",
       "      <td>4.525814</td>\n",
       "      <td>-0.491700</td>\n",
       "      <td>1.063293</td>\n",
       "      <td>-0.267615</td>\n",
       "      <td>1.247460</td>\n",
       "      <td>-1.191832</td>\n",
       "      <td>1.129465</td>\n",
       "      <td>-1.138879</td>\n",
       "      <td>1.688013</td>\n",
       "      <td>1.552020</td>\n",
       "      <td>0.814650</td>\n",
       "      <td>0.435324</td>\n",
       "      <td>2.697084</td>\n",
       "    </tr>\n",
       "    <tr>\n",
       "      <th>1</th>\n",
       "      <td>-0.242101</td>\n",
       "      <td>-0.491700</td>\n",
       "      <td>1.282550</td>\n",
       "      <td>-0.267615</td>\n",
       "      <td>2.817626</td>\n",
       "      <td>0.316718</td>\n",
       "      <td>1.129465</td>\n",
       "      <td>-1.003606</td>\n",
       "      <td>-0.505518</td>\n",
       "      <td>-0.023713</td>\n",
       "      <td>-1.714555</td>\n",
       "      <td>0.067420</td>\n",
       "      <td>-0.716090</td>\n",
       "    </tr>\n",
       "    <tr>\n",
       "      <th>2</th>\n",
       "      <td>-0.413988</td>\n",
       "      <td>0.046055</td>\n",
       "      <td>-0.452242</td>\n",
       "      <td>-0.267615</td>\n",
       "      <td>-0.243315</td>\n",
       "      <td>-0.569573</td>\n",
       "      <td>-1.002959</td>\n",
       "      <td>0.800522</td>\n",
       "      <td>-0.505518</td>\n",
       "      <td>-0.574920</td>\n",
       "      <td>-1.484628</td>\n",
       "      <td>0.363075</td>\n",
       "      <td>0.507945</td>\n",
       "    </tr>\n",
       "    <tr>\n",
       "      <th>3</th>\n",
       "      <td>-0.399310</td>\n",
       "      <td>-0.491700</td>\n",
       "      <td>2.491422</td>\n",
       "      <td>-0.267615</td>\n",
       "      <td>0.506483</td>\n",
       "      <td>-1.705624</td>\n",
       "      <td>1.059549</td>\n",
       "      <td>-0.975846</td>\n",
       "      <td>-0.620967</td>\n",
       "      <td>1.821632</td>\n",
       "      <td>0.768664</td>\n",
       "      <td>-0.450513</td>\n",
       "      <td>2.563205</td>\n",
       "    </tr>\n",
       "    <tr>\n",
       "      <th>4</th>\n",
       "      <td>-0.215810</td>\n",
       "      <td>-0.491700</td>\n",
       "      <td>1.624767</td>\n",
       "      <td>-0.267615</td>\n",
       "      <td>0.638800</td>\n",
       "      <td>-1.811236</td>\n",
       "      <td>1.129465</td>\n",
       "      <td>-1.163456</td>\n",
       "      <td>-0.620967</td>\n",
       "      <td>0.179994</td>\n",
       "      <td>1.274506</td>\n",
       "      <td>0.435324</td>\n",
       "      <td>3.259080</td>\n",
       "    </tr>\n",
       "    <tr>\n",
       "      <th>...</th>\n",
       "      <td>...</td>\n",
       "      <td>...</td>\n",
       "      <td>...</td>\n",
       "      <td>...</td>\n",
       "      <td>...</td>\n",
       "      <td>...</td>\n",
       "      <td>...</td>\n",
       "      <td>...</td>\n",
       "      <td>...</td>\n",
       "      <td>...</td>\n",
       "      <td>...</td>\n",
       "      <td>...</td>\n",
       "      <td>...</td>\n",
       "    </tr>\n",
       "    <tr>\n",
       "      <th>399</th>\n",
       "      <td>-0.418186</td>\n",
       "      <td>1.229116</td>\n",
       "      <td>-0.668535</td>\n",
       "      <td>3.736705</td>\n",
       "      <td>-0.922545</td>\n",
       "      <td>0.767713</td>\n",
       "      <td>-1.401478</td>\n",
       "      <td>0.512596</td>\n",
       "      <td>-0.620967</td>\n",
       "      <td>-0.916429</td>\n",
       "      <td>-0.380974</td>\n",
       "      <td>0.396377</td>\n",
       "      <td>-1.191286</td>\n",
       "    </tr>\n",
       "    <tr>\n",
       "      <th>400</th>\n",
       "      <td>-0.419023</td>\n",
       "      <td>0.927974</td>\n",
       "      <td>-1.295193</td>\n",
       "      <td>-0.267615</td>\n",
       "      <td>-0.702016</td>\n",
       "      <td>0.468001</td>\n",
       "      <td>-0.335266</td>\n",
       "      <td>-0.218259</td>\n",
       "      <td>-0.274620</td>\n",
       "      <td>-1.108153</td>\n",
       "      <td>-0.013090</td>\n",
       "      <td>0.395361</td>\n",
       "      <td>-0.489526</td>\n",
       "    </tr>\n",
       "    <tr>\n",
       "      <th>401</th>\n",
       "      <td>-0.421516</td>\n",
       "      <td>2.949933</td>\n",
       "      <td>-1.078900</td>\n",
       "      <td>-0.267615</td>\n",
       "      <td>-1.407708</td>\n",
       "      <td>-0.588126</td>\n",
       "      <td>-1.698619</td>\n",
       "      <td>2.645972</td>\n",
       "      <td>-0.967314</td>\n",
       "      <td>-0.550955</td>\n",
       "      <td>-0.932801</td>\n",
       "      <td>0.415907</td>\n",
       "      <td>-0.442447</td>\n",
       "    </tr>\n",
       "    <tr>\n",
       "      <th>402</th>\n",
       "      <td>-0.404457</td>\n",
       "      <td>-0.491700</td>\n",
       "      <td>-0.524833</td>\n",
       "      <td>-0.267615</td>\n",
       "      <td>-0.516771</td>\n",
       "      <td>0.196833</td>\n",
       "      <td>-0.538021</td>\n",
       "      <td>0.354753</td>\n",
       "      <td>-0.505518</td>\n",
       "      <td>-0.718714</td>\n",
       "      <td>0.538737</td>\n",
       "      <td>0.435324</td>\n",
       "      <td>-0.744043</td>\n",
       "    </tr>\n",
       "    <tr>\n",
       "      <th>403</th>\n",
       "      <td>-0.382056</td>\n",
       "      <td>-0.491700</td>\n",
       "      <td>-0.524833</td>\n",
       "      <td>-0.267615</td>\n",
       "      <td>-0.516771</td>\n",
       "      <td>0.181134</td>\n",
       "      <td>-0.964506</td>\n",
       "      <td>0.443222</td>\n",
       "      <td>-0.505518</td>\n",
       "      <td>-0.718714</td>\n",
       "      <td>0.538737</td>\n",
       "      <td>0.435324</td>\n",
       "      <td>-0.902932</td>\n",
       "    </tr>\n",
       "  </tbody>\n",
       "</table>\n",
       "<p>404 rows × 13 columns</p>\n",
       "</div>"
      ],
      "text/plain": [
       "     crim_scaled  zn_scaled  indus_scaled  chas_scaled  nox_scaled  rm_scaled  \\\n",
       "0       4.525814  -0.491700      1.063293    -0.267615    1.247460  -1.191832   \n",
       "1      -0.242101  -0.491700      1.282550    -0.267615    2.817626   0.316718   \n",
       "2      -0.413988   0.046055     -0.452242    -0.267615   -0.243315  -0.569573   \n",
       "3      -0.399310  -0.491700      2.491422    -0.267615    0.506483  -1.705624   \n",
       "4      -0.215810  -0.491700      1.624767    -0.267615    0.638800  -1.811236   \n",
       "..           ...        ...           ...          ...         ...        ...   \n",
       "399    -0.418186   1.229116     -0.668535     3.736705   -0.922545   0.767713   \n",
       "400    -0.419023   0.927974     -1.295193    -0.267615   -0.702016   0.468001   \n",
       "401    -0.421516   2.949933     -1.078900    -0.267615   -1.407708  -0.588126   \n",
       "402    -0.404457  -0.491700     -0.524833    -0.267615   -0.516771   0.196833   \n",
       "403    -0.382056  -0.491700     -0.524833    -0.267615   -0.516771   0.181134   \n",
       "\n",
       "     age_scaled  dis_scaled  rad_scaled  tax_scaled  ptratio_scaled  b_scaled  \\\n",
       "0      1.129465   -1.138879    1.688013    1.552020        0.814650  0.435324   \n",
       "1      1.129465   -1.003606   -0.505518   -0.023713       -1.714555  0.067420   \n",
       "2     -1.002959    0.800522   -0.505518   -0.574920       -1.484628  0.363075   \n",
       "3      1.059549   -0.975846   -0.620967    1.821632        0.768664 -0.450513   \n",
       "4      1.129465   -1.163456   -0.620967    0.179994        1.274506  0.435324   \n",
       "..          ...         ...         ...         ...             ...       ...   \n",
       "399   -1.401478    0.512596   -0.620967   -0.916429       -0.380974  0.396377   \n",
       "400   -0.335266   -0.218259   -0.274620   -1.108153       -0.013090  0.395361   \n",
       "401   -1.698619    2.645972   -0.967314   -0.550955       -0.932801  0.415907   \n",
       "402   -0.538021    0.354753   -0.505518   -0.718714        0.538737  0.435324   \n",
       "403   -0.964506    0.443222   -0.505518   -0.718714        0.538737  0.435324   \n",
       "\n",
       "     lstat_scaled  \n",
       "0        2.697084  \n",
       "1       -0.716090  \n",
       "2        0.507945  \n",
       "3        2.563205  \n",
       "4        3.259080  \n",
       "..            ...  \n",
       "399     -1.191286  \n",
       "400     -0.489526  \n",
       "401     -0.442447  \n",
       "402     -0.744043  \n",
       "403     -0.902932  \n",
       "\n",
       "[404 rows x 13 columns]"
      ]
     },
     "execution_count": 379,
     "metadata": {},
     "output_type": "execute_result"
    }
   ],
   "source": [
    "# View the scaled values in a DataFrame format\n",
    "pd.DataFrame(X_train_scaled, columns=[c + '_scaled' for c in X_train.columns])"
   ]
  },
  {
   "cell_type": "code",
   "execution_count": 380,
   "id": "c54dc7c3",
   "metadata": {},
   "outputs": [],
   "source": [
    "# Training\n",
    "reg_full = linear_model.LinearRegression()\n",
    "\n",
    "reg_full.fit(X_train_scaled, y_train);"
   ]
  },
  {
   "cell_type": "code",
   "execution_count": 381,
   "id": "801212f4",
   "metadata": {},
   "outputs": [
    {
     "name": "stdout",
     "output_type": "stream",
     "text": [
      "Train score is: 0.7323419940116792\n",
      "Test score is: 0.7612436444752164\n"
     ]
    }
   ],
   "source": [
    "train_score = reg_full.score(X_train_scaled, y_train)\n",
    "test_score = reg_full.score(X_test_scaled, y_test)\n",
    "\n",
    "print(f'Train score is: {train_score}')\n",
    "print(f'Test score is: {test_score}')"
   ]
  },
  {
   "cell_type": "code",
   "execution_count": 382,
   "id": "73099a86",
   "metadata": {},
   "outputs": [],
   "source": [
    "# For prediction you have to provide all the features now.\n",
    "# Lets calulatethe prediction for all test data by adding a column and comparing\n",
    "y_test_predictions= reg_full.predict(X_test_scaled)\n",
    "\n",
    "y_test_predictions_series = pd.Series(y_test_predictions, name='medv_pred')"
   ]
  },
  {
   "cell_type": "code",
   "execution_count": 383,
   "id": "2097d4d7",
   "metadata": {},
   "outputs": [
    {
     "data": {
      "text/html": [
       "<div>\n",
       "<style scoped>\n",
       "    .dataframe tbody tr th:only-of-type {\n",
       "        vertical-align: middle;\n",
       "    }\n",
       "\n",
       "    .dataframe tbody tr th {\n",
       "        vertical-align: top;\n",
       "    }\n",
       "\n",
       "    .dataframe thead th {\n",
       "        text-align: right;\n",
       "    }\n",
       "</style>\n",
       "<table border=\"1\" class=\"dataframe\">\n",
       "  <thead>\n",
       "    <tr style=\"text-align: right;\">\n",
       "      <th></th>\n",
       "      <th>medv</th>\n",
       "      <th>medv_pred</th>\n",
       "    </tr>\n",
       "  </thead>\n",
       "  <tbody>\n",
       "    <tr>\n",
       "      <th>0</th>\n",
       "      <td>25.0</td>\n",
       "      <td>22.606778</td>\n",
       "    </tr>\n",
       "    <tr>\n",
       "      <th>1</th>\n",
       "      <td>23.2</td>\n",
       "      <td>16.780214</td>\n",
       "    </tr>\n",
       "    <tr>\n",
       "      <th>2</th>\n",
       "      <td>20.5</td>\n",
       "      <td>20.171050</td>\n",
       "    </tr>\n",
       "    <tr>\n",
       "      <th>3</th>\n",
       "      <td>31.6</td>\n",
       "      <td>33.486764</td>\n",
       "    </tr>\n",
       "    <tr>\n",
       "      <th>4</th>\n",
       "      <td>17.6</td>\n",
       "      <td>16.736640</td>\n",
       "    </tr>\n",
       "    <tr>\n",
       "      <th>...</th>\n",
       "      <td>...</td>\n",
       "      <td>...</td>\n",
       "    </tr>\n",
       "    <tr>\n",
       "      <th>97</th>\n",
       "      <td>25.0</td>\n",
       "      <td>28.536715</td>\n",
       "    </tr>\n",
       "    <tr>\n",
       "      <th>98</th>\n",
       "      <td>33.0</td>\n",
       "      <td>23.244075</td>\n",
       "    </tr>\n",
       "    <tr>\n",
       "      <th>99</th>\n",
       "      <td>43.8</td>\n",
       "      <td>34.593981</td>\n",
       "    </tr>\n",
       "    <tr>\n",
       "      <th>100</th>\n",
       "      <td>16.2</td>\n",
       "      <td>14.851894</td>\n",
       "    </tr>\n",
       "    <tr>\n",
       "      <th>101</th>\n",
       "      <td>19.6</td>\n",
       "      <td>21.130981</td>\n",
       "    </tr>\n",
       "  </tbody>\n",
       "</table>\n",
       "<p>102 rows × 2 columns</p>\n",
       "</div>"
      ],
      "text/plain": [
       "     medv  medv_pred\n",
       "0    25.0  22.606778\n",
       "1    23.2  16.780214\n",
       "2    20.5  20.171050\n",
       "3    31.6  33.486764\n",
       "4    17.6  16.736640\n",
       "..    ...        ...\n",
       "97   25.0  28.536715\n",
       "98   33.0  23.244075\n",
       "99   43.8  34.593981\n",
       "100  16.2  14.851894\n",
       "101  19.6  21.130981\n",
       "\n",
       "[102 rows x 2 columns]"
      ]
     },
     "execution_count": 383,
     "metadata": {},
     "output_type": "execute_result"
    }
   ],
   "source": [
    "pd.concat([y_test.reset_index(drop=True), y_test_predictions_series], axis = 1)"
   ]
  },
  {
   "cell_type": "markdown",
   "id": "5ec7c6fd",
   "metadata": {},
   "source": [
    "# Bias-Variance trade off\n",
    "\n",
    "A key concept in ML to understand is bias-variance trade-off. \n",
    "\n",
    "- A model with high bias makes strong assumptions such as a linear relationship\n",
    "- A model with high variance makes minimal assumptions and conforms to variations in data\n",
    "\n",
    "high bias and high variance both can hurt predictions. There is always a trade-off meaning you cannot have a model with low bias and low variance. Finding the right balance is key"
   ]
  },
  {
   "cell_type": "markdown",
   "id": "0511faa6",
   "metadata": {},
   "source": [
    "### kNN\n",
    "K Nearest Neighbors is a low bias model. It simply memorizes the whole training set. It will then look at the k closest data points in the training set and makes a prediction based on those. "
   ]
  },
  {
   "cell_type": "code",
   "execution_count": 384,
   "id": "186ff09e",
   "metadata": {},
   "outputs": [],
   "source": [
    "# Splitting\n",
    "X = df[['rm']]\n",
    "y = df['medv']\n",
    "\n",
    "X_train, X_test, y_train, y_test = train_test_split(X, y, test_size=0.2, random_state=43)"
   ]
  },
  {
   "cell_type": "code",
   "execution_count": 385,
   "id": "5ff82699",
   "metadata": {},
   "outputs": [
    {
     "data": {
      "image/png": "[encoded data removed]",
      "text/plain": [
       "<Figure size 640x480 with 1 Axes>"
      ]
     },
     "metadata": {},
     "output_type": "display_data"
    }
   ],
   "source": [
    "from sklearn.neighbors import KNeighborsRegressor\n",
    "\n",
    "# the Hyper parameter k acts as a 'regularization'. The higher k the lower the variance\n",
    "k = 1\n",
    "\n",
    "knnRegressor = KNeighborsRegressor(n_neighbors=k)\n",
    "knnRegressor.fit(X_train, y_train);\n",
    "\n",
    "\n",
    "# Let's calculate the score\n",
    "score = knnRegressor.score(X_test, y_test)\n",
    "\n",
    "import numpy as np\n",
    "sample = pd.DataFrame([[rm] for rm in np.arange(3,9, 0.001)], columns=['rm'])\n",
    "\n",
    "plt.scatter(X_train, y_train, label='training set')\n",
    "plt.plot(sample, knnRegressor.predict(sample), color='red', label=f'knn prediction with k = {k}')\n",
    "\n",
    "plt.xlabel('Number of rooms')\n",
    "plt.ylabel('Predicted price')\n",
    "plt.title(f'Score={score}')\n",
    "plt.legend();"
   ]
  },
  {
   "cell_type": "markdown",
   "id": "1c5e01d8",
   "metadata": {},
   "source": [
    "### Simple Hyperparameter tuning\n",
    "\n",
    "Involves looking for the best hyperparameter configuration for maximizing a score.\n",
    "\n",
    "In our kNN case, we want to find the best K for maximum score"
   ]
  },
  {
   "cell_type": "code",
   "execution_count": 401,
   "id": "acfa575e",
   "metadata": {},
   "outputs": [],
   "source": [
    "def getScores(k):\n",
    "    knnRegressor = KNeighborsRegressor(n_neighbors=k)\n",
    "    knnRegressor.fit(X_train, y_train)\n",
    "    \n",
    "    trainScore = knnRegressor.score(X_train, y_train)\n",
    "    testScore = knnRegressor.score(X_test, y_test)\n",
    "    \n",
    "    return trainScore, testScore"
   ]
  },
  {
   "cell_type": "code",
   "execution_count": 402,
   "id": "5c2f2caa",
   "metadata": {},
   "outputs": [],
   "source": [
    "ks = range(1,100)\n",
    "scores = [getScores(k) for k in ks]\n",
    "\n",
    "train_scores = [score[0] for score in scores]\n",
    "test_scores = [score[1] for score in scores]"
   ]
  },
  {
   "cell_type": "code",
   "execution_count": 403,
   "id": "ca449612",
   "metadata": {
    "scrolled": false
   },
   "outputs": [
    {
     "data": {
      "image/png": "[encoded data removed]",
      "text/plain": [
       "<Figure size 640x480 with 1 Axes>"
      ]
     },
     "metadata": {},
     "output_type": "display_data"
    }
   ],
   "source": [
    "plt.scatter(ks, train_scores, label='Train score')\n",
    "plt.scatter(ks, test_scores, label='Test score')\n",
    "plt.xlabel('Hyperparameter K')\n",
    "plt.ylabel('kNN score')\n",
    "plt.legend();"
   ]
  },
  {
   "cell_type": "markdown",
   "id": "a750cc17",
   "metadata": {},
   "source": [
    "### Knn with all features"
   ]
  },
  {
   "cell_type": "code",
   "execution_count": 393,
   "id": "eed6e1f3",
   "metadata": {},
   "outputs": [],
   "source": [
    "# Preparing data\n",
    "X = df.drop(columns=['medv'])\n",
    "y = df['medv']\n",
    "\n",
    "X_train, X_test, y_train, y_test = train_test_split(X, y, test_size=0.2, random_state=43)\n",
    "\n",
    "# Scaling here is particularly important due to the notion of 'distance' between neighbors\n",
    "scaler = StandardScaler().fit(X_train)\n",
    "X_train_scaled = scaler.transform(X_train)\n",
    "X_test_scaled = scaler.transform(X_test)\n",
    "\n",
    "# Rerun cells above make sure to user the scaled version of the features"
   ]
  },
  {
   "cell_type": "markdown",
   "id": "57892bcc",
   "metadata": {},
   "source": [
    "### Cross validation\n",
    "\n",
    "An important technique to ensure your analysis is not sensitive to your data split. In the example above let's change the random_state to produce different splits. You will see that the scores chart will change drammatically.\n",
    "\n",
    "![Cross Validation](https://zitaoshen.rbind.io/project/machine_learning/machine-learning-101-cross-vaildation/featured.png)"
   ]
  },
  {
   "cell_type": "markdown",
   "id": "dcb82b0b",
   "metadata": {},
   "source": [
    "## Polynomial Regression\n",
    "As opposed to linear regression that assumes target is a linear combination of feature values, polynomial regression assumes a more comples shape. For example a polynomal of degree 2 with a single feature is simply a parabola:\n",
    "\n",
    "y = b + w0 X + w1 X ^ 2"
   ]
  },
  {
   "cell_type": "markdown",
   "id": "e04122c8",
   "metadata": {},
   "source": [
    "To achieve the form above, we can simply consider X^2 as a new feature and convert our problem to a LinearRegression with two features. The goal is to find the best b, w0, and w1"
   ]
  },
  {
   "cell_type": "code",
   "execution_count": null,
   "id": "bd24f2f1",
   "metadata": {},
   "outputs": [],
   "source": [
    "# adding a new column for squared values of rmsss\n",
    "X.insert(1, 'rm squared', df['rm']**2)"
   ]
  },
  {
   "cell_type": "markdown",
   "id": "f00ec2ca",
   "metadata": {},
   "source": [
    "### Exercise: fit a polynomial of degree 3 to the one dimentional training set and plot the curve\n",
    "\n",
    "y = b + w0 X + w1 X ^ 2 + w2 X ^ 3"
   ]
  }
 ],
 "metadata": {
  "kernelspec": {
   "display_name": "Python 3 (ipykernel)",
   "language": "python",
   "name": "python3"
  },
  "language_info": {
   "codemirror_mode": {
    "name": "ipython",
    "version": 3
   },
   "file_extension": ".py",
   "mimetype": "text/x-python",
   "name": "python",
   "nbconvert_exporter": "python",
   "pygments_lexer": "ipython3",
   "version": "3.11.3"
  }
 },
 "nbformat": 4,
 "nbformat_minor": 5
}
